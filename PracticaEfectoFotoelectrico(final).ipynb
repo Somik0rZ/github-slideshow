{
  "cells": [
    {
      "cell_type": "markdown",
      "source": [
        "## ACTIVIDAD GRUPAL: Boletín grupal sobre el efecto fotoeléctrico y partícula en campo magnético"
      ],
      "metadata": {
        "nteract": {
          "transient": {
            "deleting": false
          }
        }
      }
    },
    {
      "cell_type": "markdown",
      "source": [
        "# Fundamentos Físicos de la Informática\n",
        "\n",
        "Grupo 11:\n",
        "  <p>Lydia Logroño Ramas</p>\n",
        "  <p>Raul Garcia blanco</p>\n",
        "  <p>Marta Barberito de la Rocha</p>\n",
        "  <p> Diego Somovilla Arias</p>"
      ],
      "metadata": {
        "nteract": {
          "transient": {
            "deleting": false
          }
        }
      }
    },
    {
      "cell_type": "markdown",
      "source": [
        "# Objetivo\n",
        "Realizar de manera computacional dos ejercicios que recrean dos experimentos sobre física moderna: el movimiento de partículas cargadas en campos magnéticos y el efecto fotoeléctrico."
      ],
      "metadata": {
        "nteract": {
          "transient": {
            "deleting": false
          }
        }
      }
    },
    {
      "cell_type": "markdown",
      "source": [
        "## EFECTO FOTOELÉCTRICO ##\n",
        "\n",
        "El objetivo de la práctica es la determinación de la energía de arranque de los electrones de un metal y el valor de la constante de Planck (). Para ello, disponemos de una lámpara virtual que emite luz de distintas frecuencias y placas (también virtuales) de distintos metales (sodio, cinc, calcio, etc.) que van a ser iluminadas por la mencionada fuente de luz."
      ],
      "metadata": {
        "nteract": {
          "transient": {
            "deleting": false
          }
        }
      }
    },
    {
      "cell_type": "markdown",
      "source": [
        "## Ejercicio de Calentamiento"
      ],
      "metadata": {
        "nteract": {
          "transient": {
            "deleting": false
          }
        }
      }
    },
    {
      "cell_type": "markdown",
      "source": [
        "$$ \n",
        "\\frac{x\\ -\\ x_1}{x_2-x_1}\\ =\\frac{y\\ -\\ y_1}{y_2-y_1}\\ \n",
        "$$\n",
        "\n",
        "Donde $$ y_2-y_1 $$ se pasa al otro miembro multiplicando\n",
        "$$\n",
        "\\frac{\\left(x\\ -\\ x_1\\right)\\left(y_2-y_1\\right)}{x_2-x_1}\\ =y-y_1\\ \n",
        "$$\n",
        "\n",
        "$$ y_1 $$ se pasa al otro miembro sumando\n",
        "$$\n",
        "\\frac{\\left(x\\ -\\ x_1\\right)\\left(y_2-y_1\\right)}{x_2-x_1}\\ +y_1=y\\ \n",
        "$$\n",
        "\n",
        "se saca factor comun para poder operar\n",
        "$$\n",
        "\\frac{\\left(x\\ -\\ x_1\\right)\\left(y_2-y_1\\right)}{x_2-x_1}\\ +\\ \\frac{y_1\\ (x_2-x_1)}{x_2-x_1}=y\\ \n",
        "$$\n",
        "\n",
        "Se realizan las multiplicaciones\n",
        "$$\n",
        "\\frac{xy_2\\ -\\ xy_1\\ {-\\ x}_1y_2{\\ +\\ x}_1y_{1\\ }{+\\ x}_2y_1{-\\ x}_1y_1}{x_2-x_1}\\ =y\\ \n",
        "$$\n",
        "\n",
        "se simplifica\n",
        "$$\n",
        "\\frac{xy_2\\ -\\ xy_1\\ -\\ x_1y_2\\ +\\ x_2y_1}{x_2-x_1}\\ =y\\ \n",
        "$$\n",
        "\n",
        "multiplicando numerador y denominador por -1 \n",
        "\n",
        "$$\n",
        "\\frac{-xy_{2\\ }+\\ xy_{1\\ }+x_{1\\ }y_{2\\ }-\\ x_2y_{1\\ }}{{-x}_{2\\ }+\\ x_{1\\ }}\\ =\\ y\\ \n",
        "$$\n",
        "\n",
        "reordenando las variables \n",
        "$$\n",
        "\\frac{\\ xy_{1\\ }-xy_{2\\ }+x_{1\\ }y_{2\\ }-\\ x_2y_{1\\ }}{x_1-x_2}=y\\ \n",
        "$$\n",
        "\n",
        "Se saca factor comun\n",
        "$$\n",
        "\\frac{\\ x(y_{1\\ }-y_{2\\ })+x_{1\\ }y_{2\\ }-\\ x_2y_{1\\ }}{x_1-x_2}=y\\ \n",
        "$$\n",
        "\n",
        "Como\n",
        "\n",
        "$$\n",
        "m=\\frac{y_1-y_2}{x_1-x_2},    \\ b=\\frac{x_1\\cdot y_2-x_2\\cdot y_1}{x_1-x_2}\n",
        "$$\n",
        "\n",
        "Tenemos que\n",
        "$$\n",
        "y=m\\cdot\\ x+b\n",
        "$$"
      ],
      "metadata": {
        "nteract": {
          "transient": {
            "deleting": false
          }
        }
      }
    },
    {
      "cell_type": "markdown",
      "source": [
        "## ¿Qué hace CheepJ tras el telón y en qué estándares Web se basa?"
      ],
      "metadata": {
        "nteract": {
          "transient": {
            "deleting": false
          }
        }
      }
    },
    {
      "cell_type": "markdown",
      "source": [
        "Cheerpj es un compilador que permite convertir aplicaciones Java en JavaScript sin intervención manual.\n",
        "Consta de tres componentes:\n",
        "  Un compilador de código de bytes de Java a JavaScript, así como de C/C++ a JavaScript. \n",
        "  Los componentes en tiempo de ejecución que proporcionan la biblioteca Java y un módulo para la reflexión y generación dinámica de clases.\n",
        "  Las API de interoperabilidad de CheerpJ que permiten el acceso y la manipulación del DOM desde Java, implementar los métodos Java nativos en JavaScript  y el acceso a bibliotecas Java convertidas desde HTML5 / JavaScript. \n",
        "\n",
        "El funcionamiento es el siguiente:\n",
        "\n",
        "Compilar los archivos .jar a través del compilador CheerpJ AOT, elimina el código de bytes Java de los paquetes opcionalmente y se inserta la aplicación convertida o el enlace en caso de ser una biblioteca en una página HTML."
      ],
      "metadata": {
        "nteract": {
          "transient": {
            "deleting": false
          }
        }
      }
    },
    {
      "cell_type": "markdown",
      "source": [
        "## Primer Ejercicio\n",
        "\n",
        "Haced una tabla rápida con el nombre de cada color del arcoíris (azul, rojo, amarillo, etc.) en una columna, en una segunda columna escribe su longitud de onda (en metros) y en una tercera columna, su frecuencia (en Hercios). ¿Cuál es la relación matemática entre longitud de onda y frecuencia de una onda electromagnética?\n",
        "\n",
        "Una vez que tenemos un listado de longitudes de onda y voltajes de frenado, realizaremos el ajuste a una recta mediante el algoritmo de regresión o ajuste que hemos comentado antes.\n"
      ],
      "metadata": {
        "nteract": {
          "transient": {
            "deleting": false
          }
        }
      }
    },
    {
      "cell_type": "markdown",
      "source": [
        "<div style=\"text-align: justify\">En física, se conoce como longitud de onda a la distancia física entre dos puntos a partir de los cuales la onda se repite.</div>&nbsp;\n",
        "\n",
        "  <div style=\"text-align: justify\">A la longitud de onda la nombramos con la letra landa (λ).</div>"
      ],
      "metadata": {
        "nteract": {
          "transient": {
            "deleting": false
          }
        }
      }
    },
    {
      "cell_type": "markdown",
      "source": [
        "Las longitudes de onda para los 7 colores son las siguientes:\n",
        "\n",
        "|  Color | Longitud de onda Mínima  | Longitud de onda Máxima |\n",
        "|---|---|---|\n",
        "| Violeta  \t| $${380\\;{10^{-9}}}m$$ | $${427\\;{10^{-9}}}m$$ |\n",
        "| Azul \t\t| $${427\\;{10^{-9}}}m$$ | $${475\\;{10^{-9}}}m$$ |   \n",
        "| Cian \t\t| $${475\\;{10^{-9}}}m$$ | $${497\\;{10^{-9}}}m$$ |   \n",
        "| Verde \t| $${497\\;{10^{-9}}}m$$ | $${570\\;{10^{-9}}}m$$ |   \n",
        "| Amarillo \t| $${570\\;{10^{-9}}}m$$ | $${590\\;{10^{-9}}}m$$ | \n",
        "| Naranja \t| $${590\\;{10^{-9}}}m$$ | $${620\\;{10^{-9}}}m$$ |   \n",
        "| Rojo  \t| $${620\\;{10^{-9}}}m$$ | $${760\\;{10^{-9}}}m$$ |  "
      ],
      "metadata": {
        "nteract": {
          "transient": {
            "deleting": false
          }
        }
      }
    },
    {
      "cell_type": "markdown",
      "source": [
        "**<div style=\"text-align: justify\">¿Cuál es la relación matemática entre longitud de onda y frecuencia de una onda electromagnética?</div>&nbsp;**\n",
        "\n",
        "<div style=\"text-align: justify\">Como bien hemos dicho antes la longitud de onda (λ) es la distancia física entre dos puntos a partir de los cuales la onda se repite. Y la frecuencia (f) es la medida del número de ciclos o repeticiones de la onda por unidad de tiempo.</div>&nbsp;\n",
        "\n",
        "<div style=\"text-align: justify\">La relación entre frecuencia y longitud de onda es que a mayor frecuencia, menor es la longitud de onda y cuando la frecuencia es menor, mayor es la longitud de onda.</div>&nbsp;\n",
        "\n",
        "Para calcular las frecuencias que corresponden a las longitudes de onda, utilizaremos las siguientes formulas: \n",
        "\n",
        "$$\n",
        "    f = \\frac{v}{\\lambda}\n",
        "$$\n",
        "\n",
        "<div style=\"text-align: justify\">La velocidad de propagación de una onda (v), se puede medir como el tiempo que transcurre desde que es emitida hasta que se recibe.</div>&nbsp;\n",
        "\n",
        "<div style=\"text-align: justify\">Todas las ondas electromagnéticas se propagan en el vacío  a una velocidad constante de 300.000.000 m/s, la velocidad de la luz (c), por lo que:</div>\n",
        "\n",
        "$$ v=c = 3 \\; {10}^{8} $$ Podriamos escribir la formula para calcular la frecuencia como:\n",
        "\n",
        "$$\n",
        "    f = \\frac{3 \\;{10}^{8}}{\\lambda}\n",
        "$$\n",
        "\n",
        "Calculando las frecuencias con esta ecuacion la tabla quedaria de la siguiente manera:"
      ],
      "metadata": {
        "nteract": {
          "transient": {
            "deleting": false
          }
        }
      }
    },
    {
      "cell_type": "markdown",
      "source": [
        "|  Color | Longitud de onda Mínima   | Longitud de onda Máxima | Frecuencia Mínima  | Frecuencia Máxima  |\n",
        "|---|---|---|---|---|\n",
        "| Violeta  \t| $$ { 380 \\;{10^{-9}}}m $$ | $$ { 427 \\;{10^{-9}}}m $$ | $$ { 7,89 \\;{10^{14}}}Hz $$ | $$ { 7,03 \\; {10^{14}}}Hz $$ |\n",
        "| Azul \t\t| $$ { 427 \\;{10^{-9}}}m $$ | $$ { 475 \\;{10^{-9}}}m $$ | $$ { 7,03 \\;{10^{14}}}Hz $$ | $$ { 6,32 \\; {10^{14}}}Hz $$ |   \n",
        "| Cian \t\t| $$ { 475 \\;{10^{-9}}}m $$ | $$ { 497 \\;{10^{-9}}}m $$ | $$ { 6,32 \\;{10^{14}}}Hz $$ | $$ { 6,04 \\; {10^{14}}}Hz $$ |   \n",
        "| Verde \t| $$ { 497 \\;{10^{-9}}}m $$ | $$ { 570 \\;{10^{-9}}}m $$ | $$ { 6,04 \\;{10^{14}}}Hz $$ | $$ { 5,26 \\; {10^{14}}}Hz $$ |   \n",
        "| Amarillo \t| $$ { 570 \\;{10^{-9}}}m $$ | $$ { 590 \\;{10^{-9}}}m $$ | $$ { 5,26 \\;{10^{14}}}Hz $$ | $$ { 5,08 \\; {10^{14}}}Hz $$ | \n",
        "| Naranja \t| $$ { 590 \\;{10^{-9}}}m $$ | $$ { 620 \\;{10^{-9}}}m $$ | $$ { 5,08 \\;{10^{14}}}Hz $$ | $$ { 4,84 \\; {10^{14}}}Hz $$ |   \n",
        "| Rojo  \t| $$ { 620 \\;{10^{-9}}}m $$ | $$ { 760 \\;{10^{-9}}}m $$ | $$ { 4,84 \\;{10^{14}}}Hz $$ | $$ { 3,95 \\; {10^{14}}}Hz $$ |   "
      ],
      "metadata": {
        "nteract": {
          "transient": {
            "deleting": false
          }
        }
      }
    },
    {
      "cell_type": "markdown",
      "source": [
        "## Toma de medidas con el applet del efecto Fotoeléctrico"
      ],
      "metadata": {
        "nteract": {
          "transient": {
            "deleting": false
          }
        }
      }
    },
    {
      "cell_type": "markdown",
      "source": [
        "Se simula para los materiales:\n",
        "\n",
        "- Sodio\n",
        "\n",
        "Se comprueba que se produce carga para longitudes de onda entre 120 y 450 nm ,se toman los valores intermedios 250 y 400 nm\n",
        "\n",
        "| frecuencias (nm) | sin carga | con carga | potenciales de frenado (V) |\n",
        "|---|:---:|:---:|---:|\n",
        "|120|![Caso sodio 120 nm sin carga](./Miniaturas/Caso_SODIO_120_NO.PNG)|![Caso sodio 120 nm sin carga](./Miniaturas/Caso_SODIO_120_SI.PNG)|-7.91|\n",
        "|250|![Caso sodio 250 nm sin carga](./Miniaturas/Caso_SODIO_250_NO.JPG)|![Caso sodio 250 nm sin carga](./Miniaturas/Caso_SODIO_250_SI.JPG)|-2.58|\n",
        "|400|![Caso sodio 400 nm sin carga](./Miniaturas/Caso_SODIO_400_NO.JPG)|![Caso sodio 400 nm sin carga](./Miniaturas/Caso_SODIO_400_SI.JPG)|-0.63|\n",
        "|450|![Caso sodio 466 nm sin carga](./Miniaturas/Caso_SODIO_466_NO.JPG)|![Caso sodio 466 nm sin carga](./Miniaturas/Caso_SODIO_466_SI.JPG)|-0.04|\n",
        "\n",
        "- Zinc\n",
        "\n",
        "Se comprueba que se produce carga para longitudes de onda entre 100 y 260 nm ,se toman los valores intermedios 150 y 200 nm\n",
        "\n",
        "| frecuencias (nm) | sin carga | con carga | potenciales de frenado (V) |\n",
        "|---|:---:|:---:|---:|\n",
        "|100|![Caso zinc 100 nm sin carga](./Miniaturas/Caso_ZINC_100_NO.JPG)|![Caso zinc 100 nm sin carga](./Miniaturas/Caso_ZINC_100_SI.JPG)|-7.97|\n",
        "|150|![Caso zinc 150 nm sin carga](./Miniaturas/Caso_ZINC_150_NO.JPG)|![Caso zinc 150 nm sin carga](./Miniaturas/Caso_ZINC_150_SI.JPG)|-3.88|\n",
        "|200|![Caso zinc 200 nm sin carga](./Miniaturas/Caso_ZINC_200_NO.JPG)|![Caso zinc 200 nm sin carga](./Miniaturas/Caso_ZINC_200_SI.JPG)|-1.76|\n",
        "|260|![Caso zinc 260 nm sin carga](./Miniaturas/Caso_ZINC_260_NO.JPG)|![Caso zinc 260 nm sin carga](./Miniaturas/Caso_ZINC_260_SI.JPG)|-0.03|\n",
        "\n",
        "- Cobre\n",
        "\n",
        "Se comprueba que se produce carga para longitudes de onda entre 100 y 239 nm ,se toman los valores intermedios 150 y 200 nm\n",
        "\n",
        "| frecuencias (nm) | sin carga | con carga | potenciales de frenado (V) |\n",
        "|---|:---:|:---:|---:|\n",
        "|100|![Caso sodio 100 nm sin carga](./Miniaturas/Caso_COBRE_100_NO.PNG)|![Caso sodio 100 nm sin carga](./Miniaturas/Caso_COBRE_100_SI.PNG)|-7.57|\n",
        "|150|![Caso sodio 150 nm sin carga](./Miniaturas/Caso_COBRE_150_NO.PNG)|![Caso sodio 150 nm sin carga](./Miniaturas/Caso_COBRE_150_SI.PNG)|-3.47|\n",
        "|200|![Caso sodio 200 nm sin carga](./Miniaturas/Caso_COBRE_200_NO.PNG)|![Caso sodio 200 nm sin carga](./Miniaturas/Caso_COBRE_200_SI.PNG)|-1.32|\n",
        "|239|![Caso sodio 239 nm sin carga](./Miniaturas/Caso_COBRE_239_NO.PNG)|![Caso sodio 239 nm sin carga](./Miniaturas/Caso_COBRE_239_SI.PNG)|-0.03|\n",
        "\n",
        "- Platino\n",
        "\n",
        "Se comprueba que se produce carga para longitudes de onda entre 100 y 181 nm ,se toman los valores intermedios 130 y 160 nm\n",
        "\n",
        "| frecuencias (nm) | sin carga | con carga | potenciales de frenado (V) |\n",
        "|---|:---:|:---:|---:|\n",
        "|100|![Caso platino 100 nm sin carga](./Miniaturas/Caso_PLATINO_100_NO.PNG)|![Caso platino 100 nm sin carga](./Miniaturas/Caso_PLATINO_100_SI.PNG)|-5.97|\n",
        "|130|![Caso platino 130 nm sin carga](./Miniaturas/Caso_PLATINO_130_NO.PNG)|![Caso platino 130 nm sin carga](./Miniaturas/Caso_PLATINO_130_SI.PNG)|-3.11|\n",
        "|160|![Caso platino 160 nm sin carga](./Miniaturas/Caso_PLATINO_160_NO.PNG)|![Caso platino 160 nm sin carga](./Miniaturas/Caso_PLATINO_160_SI.PNG)|-1.22|\n",
        "|181|![Caso platino 181 nm sin carga](./Miniaturas/Caso_PLATINO_181_NO.PNG)|![Caso platino 181 nm sin carga](./Miniaturas/Caso_PLATINO_181_SI.PNG)|-0.01|\n",
        "\n",
        "- Calcio\n",
        "\n",
        "Se comprueba que se produce carga para longitudes de onda entre 113 y 378 nm ,se toman los valores intermedios 200 y 280 nm\n",
        "\n",
        "| frecuencias (nm) | sin carga | con carga | potenciales de frenado (V) |\n",
        "|---|:---:|:---:|---:|\n",
        "|113|![Caso calcio 113 nm sin carga](./Miniaturas/Caso_CALCIO_113_NO.PNG)|![Caso calcio 113 nm sin carga](./Miniaturas/Caso_CALCIO_113_SI.PNG)|-7.96|\n",
        "|200|![Caso calcio 200 nm sin carga](./Miniaturas/Caso_CALCIO_200_NO.PNG)|![Caso calcio 200 nm sin carga](./Miniaturas/Caso_CALCIO_200_SI.PNG)|-3.22|\n",
        "|280|![Caso calcio 280 nm sin carga](./Miniaturas/Caso_CALCIO_280_NO.PNG)|![Caso calcio 280 nm sin carga](./Miniaturas/Caso_CALCIO_280_SI.PNG)|-1.41|\n",
        "|378|![Caso calcio 378 nm sin carga](./Miniaturas/Caso_CALCIO_378_NO.PNG)|![Caso calcio 378 nm sin carga](./Miniaturas/Caso_CALCIO_378_SI.PNG)|-0.01|\n"
      ],
      "metadata": {
        "nteract": {
          "transient": {
            "deleting": false
          }
        }
      }
    },
    {
      "cell_type": "markdown",
      "source": [
        "La mediciones se pueden representar de la siguiente manera:\n",
        "\n",
        "![Datos medidos](./Imagenes/datos_medidos.png)\n",
        "\n"
      ],
      "metadata": {
        "nteract": {
          "transient": {
            "deleting": false
          }
        }
      }
    },
    {
      "cell_type": "markdown",
      "source": [
        "## ¿Para qué sirve UNPKG y porqué es uno de los servicios más usados de Internet (junto con jspm, ESM, cdnjs, jsdelivr, …)? ¿Qué son los CDN? "
      ],
      "metadata": {
        "nteract": {
          "transient": {
            "deleting": false
          }
        }
      }
    },
    {
      "cell_type": "markdown",
      "source": [
        "<div style=\"text-align: justify\">UNPKG es una CDN gratuita que distribuye automáticamente los paquetes públicos publicados en NMP (sistema de gestión de paquetes por defecto para node.js.\n",
        "Es un servicio muy utilizado ya que permite almacenar los archivos en cache y esto hace que sea muy rápido a lo que también hay que añadir que es un servicio gratuito.</div>&nbsp;\n",
        "\n",
        "\n",
        "<div style=\"text-align: justify\">CDN (Red de distribución de contenido). Es una red distribuida geográficamente de servidores proxy y sus centros de datos, surgieron a finales de los 90 para aliviar los cuellos de botella del rendimiento de internet.\n",
        "Sin una CDN los servidores de origen deben responder a todas las peticiones de los usuarios finales y esto genera un tráfico en la red con una gran carga y puede producir fallos, es por ello que los nodos CDN descargan el tráfico a los servidores de origen y mejoran la experiencia web ya que permiten una alta disponibilidad y un alto rendimiento.</div>\n",
        "\n",
        "![Imagen](https://www.agmwebhosting.com/blog/wp-content/uploads/2018/08/CDN-feature-images.png)\n",
        "\n",
        "\n",
        "\n"
      ],
      "metadata": {
        "nteract": {
          "transient": {
            "deleting": false
          }
        }
      }
    },
    {
      "cell_type": "markdown",
      "source": [
        "## Ajuste a una recta"
      ],
      "metadata": {
        "nteract": {
          "transient": {
            "deleting": false
          }
        }
      }
    },
    {
      "cell_type": "markdown",
      "source": [
        "var longitudes_de_onda_medidas = [150, 250, 400, 450].map(x => x*1e-9);  // para pasar a metros\n",
        "var voltajes_medidos = [-5.86, -2.62, -0.59, -0.13];  // en voltios (voltaje de frenado)"
      ],
      "metadata": {
        "nteract": {
          "transient": {
            "deleting": false
          }
        }
      }
    },
    {
      "cell_type": "markdown",
      "source": [
        "Utilizamos tuplas para ajustar cada frecuencia con su voltaje de frenado."
      ],
      "metadata": {
        "nteract": {
          "transient": {
            "deleting": false
          }
        }
      }
    },
    {
      "cell_type": "markdown",
      "source": [
        "inversa_de_longitudes_de_onda = longitudes_de_onda_medidas.map(lambda => 1/lambda );  \n",
        "var datos_a_ajustar = voltajes_medidos.reduce((tuplas_longitud_onda_voltaje, b, i) => {\n",
        "    tuplas_longitud_onda_voltaje.push([inversa_de_longitudes_de_onda[i], b]);\n",
        "  return tuplas_longitud_onda_voltaje;\n",
        "}, []);\n",
        "console.log(datos_a_ajustar); // Verás que son tuplas de valores 1/lambda y voltajes"
      ],
      "metadata": {
        "nteract": {
          "transient": {
            "deleting": false
          }
        }
      }
    },
    {
      "cell_type": "markdown",
      "source": [
        "Ajustamos los datos a una recta."
      ],
      "metadata": {
        "nteract": {
          "transient": {
            "deleting": false
          }
        }
      }
    },
    {
      "cell_type": "code",
      "source": [
        "var regression = require('./regression.js');\n",
        "var result = regression.linear(datos_a_ajustar, { precision: 15 });\n",
        "var m = result.equation[0];  // pendiente\n",
        "var b = result.equation[1];  // ordenada en origen\n",
        "console.log('la pendiente es = ' + m + ' y la ordenada es = ' + b);"
      ],
      "outputs": [
        {
          "output_type": "stream",
          "name": "stdout",
          "text": [
            "la pendiente es = -0.000001280640715 y la ordenada es = 2.626909417430555\n"
          ]
        }
      ],
      "execution_count": 4,
      "metadata": {
        "collapsed": true,
        "jupyter": {
          "source_hidden": false,
          "outputs_hidden": false
        },
        "nteract": {
          "transient": {
            "deleting": false
          }
        },
        "execution": {
          "iopub.status.busy": "2020-11-17T17:12:26.173Z",
          "iopub.execute_input": "2020-11-17T17:12:26.186Z",
          "iopub.status.idle": "2020-11-17T17:12:26.215Z",
          "shell.execute_reply": "2020-11-17T17:12:26.227Z"
        }
      }
    },
    {
      "cell_type": "markdown",
      "source": [
        "## Representación gráfica de los datos\n",
        "\n",
        "El último ejercicio consiste en representar gráficamente los datos experimentales y la recta obtenida."
      ],
      "metadata": {
        "nteract": {
          "transient": {
            "deleting": false
          }
        }
      }
    },
    {
      "cell_type": "code",
      "source": [
        "function Plotly(data, layout, $$) {\n",
        "    $$ = $$ || global.$$;\n",
        "    $$.mime({ \"application/vnd.plotly.v1+json\": { data: data, layout: layout } });\n",
        "}"
      ],
      "outputs": [],
      "execution_count": 6,
      "metadata": {
        "collapsed": true,
        "jupyter": {
          "source_hidden": false,
          "outputs_hidden": false
        },
        "nteract": {
          "transient": {
            "deleting": false
          }
        },
        "execution": {
          "iopub.status.busy": "2020-11-28T14:22:45.783Z",
          "iopub.execute_input": "2020-11-28T14:22:45.793Z",
          "iopub.status.idle": "2020-11-28T14:22:45.817Z",
          "shell.execute_reply": "2020-11-28T14:22:45.829Z"
        }
      }
    },
    {
      "cell_type": "code",
      "source": [
        "voltajes_de_frenado_calculados = inversa_de_longitudes_de_onda.map(inversa_lambda => inversa_lambda * m + b);"
      ],
      "outputs": [
        {
          "output_type": "execute_result",
          "execution_count": 6,
          "data": {
            "text/plain": "[\n  -5.910695349236111,\n  -2.4956534425694445,\n  -0.5746923700694451,\n  -0.21895883812500028\n]"
          },
          "metadata": {}
        }
      ],
      "execution_count": 6,
      "metadata": {
        "collapsed": true,
        "jupyter": {
          "source_hidden": false,
          "outputs_hidden": false
        },
        "nteract": {
          "transient": {
            "deleting": false
          }
        },
        "execution": {
          "iopub.status.busy": "2020-11-17T17:12:31.488Z",
          "iopub.execute_input": "2020-11-17T17:12:31.504Z",
          "iopub.status.idle": "2020-11-17T17:12:31.628Z",
          "shell.execute_reply": "2020-11-17T17:12:31.638Z"
        }
      }
    },
    {
      "cell_type": "code",
      "source": [
        "datos = [\n",
        "  { x: inversa_de_longitudes_de_onda, y: voltajes_medidos, name: 'Datos experimentales' }, \n",
        "  { x: inversa_de_longitudes_de_onda, y: voltajes_de_frenado_calculados, name: 'Datos calculados tras ajuste' }\n",
        "];\n",
        "\n",
        "var layout = {\n",
        "  title: 'Datos experimentales VS Datos calculados tras ajuste',\n",
        "  xaxis: { title: 'voltajes (V)', titlefont: { \n",
        "    family: 'Courier New, monospace', size: 18, color: '#7f7f7f' }\n",
        "  },\n",
        "  yaxis: {\n",
        "    title: ' inversa longuitudes de onda (Hz)', titlefont: {\n",
        "      family: 'Courier New, monospace', size: 18, color: '#7f7f7f' }\n",
        "  }\n",
        "};\n",
        "Plotly(datos, layout);"
      ],
      "outputs": [
        {
          "output_type": "execute_result",
          "execution_count": 7,
          "data": {
            "application/vnd.plotly.v1+json": {
              "data": [
                {
                  "x": [
                    6666666.666666666,
                    3999999.9999999995,
                    2500000,
                    2222222.222222222
                  ],
                  "y": [
                    -5.86,
                    -2.62,
                    -0.59,
                    -0.13
                  ],
                  "name": "Datos experimentales"
                },
                {
                  "x": [
                    6666666.666666666,
                    3999999.9999999995,
                    2500000,
                    2222222.222222222
                  ],
                  "y": [
                    -5.910695349236111,
                    -2.4956534425694445,
                    -0.5746923700694451,
                    -0.21895883812500028
                  ],
                  "name": "Datos calculados tras ajuste"
                }
              ],
              "layout": {
                "title": "Datos experimentales VS Datos calculados tras ajuste",
                "xaxis": {
                  "title": "voltajes (V)",
                  "titlefont": {
                    "family": "Courier New, monospace",
                    "size": 18,
                    "color": "#7f7f7f"
                  }
                },
                "yaxis": {
                  "title": " inversa longuitudes de onda (Hz?)",
                  "titlefont": {
                    "family": "Courier New, monospace",
                    "size": 18,
                    "color": "#7f7f7f"
                  }
                }
              }
            }
          },
          "metadata": {}
        }
      ],
      "execution_count": 7,
      "metadata": {
        "collapsed": true,
        "jupyter": {
          "source_hidden": false,
          "outputs_hidden": false
        },
        "nteract": {
          "transient": {
            "deleting": false
          }
        },
        "execution": {
          "iopub.status.busy": "2020-11-17T17:12:34.269Z",
          "iopub.execute_input": "2020-11-17T17:12:34.279Z",
          "iopub.status.idle": "2020-11-17T17:12:34.454Z",
          "shell.execute_reply": "2020-11-17T17:12:34.464Z"
        }
      }
    },
    {
      "cell_type": "markdown",
      "source": [
        "la grafica de los valores obtenidos VS los datos calculador es la siguiente:\n",
        "\n",
        "| Sodio | Zinc |\n",
        "|:---:|:---:|\n",
        "|![Sodio](./Imagenes/Sodio.PNG)|![Zinc](./Imagenes/Zinc.PNG)|\n",
        "\n",
        "| Cobre | Platino |\n",
        "|:---:|:---:|\n",
        "|![Cobre](./Imagenes/Cobre.PNG)|![Platino](./Imagenes/Platino.PNG)|\n"
      ],
      "metadata": {
        "nteract": {
          "transient": {
            "deleting": false
          }
        }
      }
    },
    {
      "cell_type": "markdown",
      "source": [
        "## Ejercicio premium\n",
        "\n",
        "Modifica ahora el control de intensidad de la luz (el que va entre 0 y el 100%) para una longitud de onda de 100 nm y un metal a tu elección. ¿Qué le ocurre a la corriente que se mide con el amperímetro? Haz una gráfica que represente el amperaje medido respecto a dicha intensidad de luz. ¿Qué relación se observa?"
      ],
      "metadata": {
        "nteract": {
          "transient": {
            "deleting": false
          }
        }
      }
    },
    {
      "cell_type": "markdown",
      "source": [
        "En el caso del cobre se observa que a mayor intensidad mayor corriente, el siguiente codigo genera una grafica con los resultados:"
      ],
      "metadata": {
        "nteract": {
          "transient": {
            "deleting": false
          }
        }
      }
    },
    {
      "cell_type": "code",
      "source": [
        "datos_Cu = [\n",
        "{x: [10, 20, 30, 40, 50, 60, 70, 80, 90, 100],\n",
        "y: [0.094, 0.178, 0.268, 0.351, 0.443, 0.535, 0.618, 0.703,\n",
        "0.795, 0.882],\n",
        "name: 'Cobre expuesto a 100nm',\n",
        "marker: {\n",
        "color: 'rgb(0, 0, 255)',\n",
        "size: 6\n",
        "},\n",
        "line: {\n",
        "color: 'rgb(0, 0, 255)',\n",
        "dash: 'dashdot',\n",
        "width: 1\n",
        "}},\n",
        "];\n",
        "var layout_Cu = {\n",
        "title: 'Cobre expuesto a 100nm',\n",
        "xaxis: { title: 'Intensidad (%)',\n",
        "titlefont: { family: 'Courier New, monospace', size: 16,\n",
        "color: '#7f7f7f' }\n",
        "},\n",
        "yaxis: {\n",
        "title: 'Amperios (A)', titlefont: {\n",
        "family: 'Courier New, monospace', size: 16, color:\n",
        "'#7f7f7f' }\n",
        "}\n",
        "};\n",
        "Plotly(datos_Cu, layout_Cu);\n"
      ],
      "outputs": [
        {
          "output_type": "execute_result",
          "execution_count": 8,
          "data": {
            "application/vnd.plotly.v1+json": {
              "data": [
                {
                  "x": [
                    10,
                    20,
                    30,
                    40,
                    50,
                    60,
                    70,
                    80,
                    90,
                    100
                  ],
                  "y": [
                    0.094,
                    0.178,
                    0.268,
                    0.351,
                    0.443,
                    0.535,
                    0.618,
                    0.703,
                    0.795,
                    0.882
                  ],
                  "name": "Cobre expuesto a 100nm",
                  "marker": {
                    "color": "rgb(0, 0, 255)",
                    "size": 6
                  },
                  "line": {
                    "color": "rgb(0, 0, 255)",
                    "dash": "dashdot",
                    "width": 1
                  }
                }
              ],
              "layout": {
                "title": "Cobre expuesto a 100nm",
                "xaxis": {
                  "title": "Intensidad (%)",
                  "titlefont": {
                    "family": "Courier New, monospace",
                    "size": 16,
                    "color": "#7f7f7f"
                  }
                },
                "yaxis": {
                  "title": "Amperios (A)",
                  "titlefont": {
                    "family": "Courier New, monospace",
                    "size": 16,
                    "color": "#7f7f7f"
                  }
                }
              }
            }
          },
          "metadata": {}
        }
      ],
      "execution_count": 8,
      "metadata": {
        "collapsed": true,
        "jupyter": {
          "source_hidden": false,
          "outputs_hidden": false
        },
        "nteract": {
          "transient": {
            "deleting": false
          }
        },
        "execution": {
          "iopub.status.busy": "2020-11-28T14:24:56.920Z",
          "iopub.execute_input": "2020-11-28T14:24:56.934Z",
          "iopub.status.idle": "2020-11-28T14:24:57.059Z",
          "shell.execute_reply": "2020-11-28T14:24:57.073Z"
        }
      }
    },
    {
      "cell_type": "markdown",
      "source": [
        "![Sodio](./Imagenes/premium.PNG)"
      ],
      "metadata": {
        "nteract": {
          "transient": {
            "deleting": false
          }
        }
      }
    },
    {
      "cell_type": "markdown",
      "source": [
        "## Historia en torno al efecto fotoeléctrico\n"
      ],
      "metadata": {
        "nteract": {
          "transient": {
            "deleting": false
          }
        }
      }
    },
    {
      "cell_type": "markdown",
      "source": [
        "<div style=\"text-align: justify\">Desde que James Clerk Maxwell unifica el fenómeno de la electricidad y el magnetismo en 1864. Aparecen dos teorías, las que sostienen que el fenómeno se produce por ondas electromagnéticas como H. Herz y los que sostienen que se trata de partículas como Thomson.\n",
        "En 1905 Einstein introduce el concepto de cuanto y en 1915 Millakan corroborará experimentalmente las teorías de Einstein aunque su intención inicial era la de demostrar justo lo contrario.</div> &nbsp;\n",
        "\n",
        "<div style=\"text-align: justify\">Einstein era un alemán judío, por aquel entonces surge el movimiento nazi y muchos físicos partidarios del nacismo tratan de desacreditar el trabajo de Einstein por ser demasiado teórico hasta el punto de negársele varios años el nobel de física. El principal critico fue Philipp Lenard quien curiosamente realizo el estudio del que partio Einstein para realizar su investigación sobre el efecto fotoeléctrico por el cual finalmente obtuvo el nobel en 1921.</div>\n"
      ],
      "metadata": {
        "nteract": {
          "transient": {
            "deleting": false
          }
        }
      }
    },
    {
      "cell_type": "markdown",
      "source": [
        "## Tabla de valoración individual\n",
        "\n",
        "Se os pide que incluyáis una tabla parecida a esta (cada uno). Podéis hacerlo en cualquiera de los dos documentos.\n",
        "\n",
        "                                                                                               Sí\tNo\tA veces\n",
        "<table>\n",
        "   <thead>\n",
        "    <tr>\n",
        "      <th>&nbsp;</th>\n",
        "      <th>\n",
        "      <span>Sí</span>\n",
        "      </th>\n",
        "      <th>\n",
        "      <span>No</span>\n",
        "      </th>\n",
        "      <th>\n",
        "      <span>A veces</span>\n",
        "      </th>\n",
        "     </tr>\n",
        "    </thead>\n",
        "      <tbody>\n",
        "       <tr>\n",
        "        <td>\n",
        "         <span>Todos los miembros se han integrado al trabajo del grupo</span>\n",
        "        </td>\n",
        "        <td>X</td>\n",
        "        <td>&nbsp;</td>\n",
        "        <td>&nbsp;</td>\n",
        "        </tr>\n",
        "        <tr>\n",
        "        <td>\n",
        "         <span>Todos los miembros participan activamente</span>\n",
        "        </td>\n",
        "        <td>X</td>\n",
        "        <td>&nbsp;</td>\n",
        "        <td>&nbsp;</td>\n",
        "        </tr>\n",
        "        <tr>\n",
        "        <td>\n",
        "         <span>Todos los miembros respetan otras ideas aportadas</span>\n",
        "        </td>\n",
        "        <td>X</td>\n",
        "        <td>&nbsp;</td>\n",
        "        <td>&nbsp;</td>\n",
        "        </tr>\n",
        "        <tr>\n",
        "        <td>\n",
        "         <span>Todos los miembros participan en la elaboración del informe</span>\n",
        "        </td>\n",
        "        <td>X</td>\n",
        "        <td>&nbsp;</td>\n",
        "        <td>&nbsp;</td>\n",
        "        </tr>\n",
        "        <tr>\n",
        "        <td>\n",
        "         <span>Me he preocupado por realizar un trabajo cooperativo con mis compañeros</span>\n",
        "        </td>\n",
        "        <td>X</td>\n",
        "        <td>&nbsp;</td>\n",
        "        <td>&nbsp;</td>\n",
        "        </tr>\n",
        "        <tr>\n",
        "        <td>\n",
        "         <span>Señala si consideras que algún aspecto del trabajo en grupo no ha sido adecuado</span>\n",
        "        </td>\n",
        "        <td>&nbsp;</td>\n",
        "        <td>&nbsp;</td>\n",
        "        <td>&nbsp;</td>\n",
        "        </tr>\n",
        "        </tbody>\n",
        "</table>"
      ],
      "metadata": {
        "nteract": {
          "transient": {
            "deleting": false
          }
        }
      }
    }
  ],
  "metadata": {
    "kernel_info": {
      "name": "python3"
    },
    "language_info": {
      "name": "javascript",
      "version": "12.8.1",
      "mimetype": "application/javascript",
      "file_extension": ".js"
    },
    "kernelspec": {
      "argv": [
        "C:\\Users\\oofra\\scoop\\apps\\miniconda3\\current\\envs\\my_conda\\python.exe",
        "-m",
        "ipykernel_launcher",
        "-f",
        "{connection_file}"
      ],
      "display_name": "Python 3",
      "language": "python",
      "name": "python3"
    },
    "nteract": {
      "version": "0.26.0"
    }
  },
  "nbformat": 4,
  "nbformat_minor": 0
}